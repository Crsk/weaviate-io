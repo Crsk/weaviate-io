{
 "cells": [
  {
   "cell_type": "code",
   "execution_count": 1,
   "id": "c9fa4782",
   "metadata": {},
   "outputs": [],
   "source": [
    "import os\n",
    "import re\n",
    "import subprocess\n",
    "import pytest\n",
    "from pathlib import Path"
   ]
  },
  {
   "cell_type": "code",
   "execution_count": 2,
   "id": "cf89c7ab",
   "metadata": {},
   "outputs": [],
   "source": [
    "def extract_code_blocks(file_path):\n",
    "#     code_block_regex = re.compile(r'```python\\n(.*?)\\n```\\n?<!--\\s*(.+?)\\s*-->', re.DOTALL | re.MULTILINE)\n",
    "    code_block_regex = re.compile(r'<!--\\s*(.+?)\\s*-->\\n?```python\\n(.*?)\\n```\\n?<!--\\s*(.+?)\\s*-->', re.DOTALL | re.MULTILINE)\n",
    "\n",
    "    with file_path.open() as file:\n",
    "        content = file.read()\n",
    "        code_blocks = code_block_regex.findall(content)\n",
    "\n",
    "        extracted_blocks = []\n",
    "\n",
    "        for block in code_blocks:\n",
    "            extracted_blocks.append({\n",
    "                \"preparation\": block[0],\n",
    "                \"code\": block[1],\n",
    "                \"test_assertion\": block[2],\n",
    "            })\n",
    "\n",
    "        return extracted_blocks\n",
    "\n",
    "def process_markdown_files(directory):\n",
    "    all_blocks = []\n",
    "\n",
    "    for file_path in Path(directory).rglob(\"*.md\"):\n",
    "        all_blocks.extend(extract_code_blocks(file_path))\n",
    "\n",
    "    return all_blocks"
   ]
  },
  {
   "cell_type": "code",
   "execution_count": 3,
   "id": "f04e1337",
   "metadata": {},
   "outputs": [],
   "source": [
    "def preprocess_codeblock(raw_codeblock: str):\n",
    "    proc_codeblock = raw_codeblock.replace(\"https://some-endpoint.weaviate.network\", \"http://localhost:8080\")\n",
    "    pattern = r'\"X-OpenAI-Api-Key\": \"(.+?)\"'\n",
    "    my_api_key = os.environ['OPENAI_API_KEY']\n",
    "    proc_codeblock = re.sub(pattern, f'\"X-OpenAI-Api-Key\": \"{my_api_key}\"', proc_codeblock)\n",
    "    return proc_codeblock"
   ]
  },
  {
   "cell_type": "code",
   "execution_count": 5,
   "id": "ca352588",
   "metadata": {},
   "outputs": [
    {
     "name": "stdout",
     "output_type": "stream",
     "text": [
      "Run Docker compose\n"
     ]
    },
    {
     "name": "stderr",
     "output_type": "stream",
     "text": [
      "time=\"2023-04-04T16:33:49+10:00\" level=warning msg=\"The \\\"OPENAI_APIKEY\\\" variable is not set. Defaulting to a blank string.\"\n",
      "Network test_default  Creating\n",
      "Network test_default  Created\n",
      "Container test-weaviate-1  Creating\n",
      "Container test-weaviate-1  Created\n",
      "Container test-weaviate-1  Starting\n",
      "Container test-weaviate-1  Started\n"
     ]
    },
    {
     "name": "stdout",
     "output_type": "stream",
     "text": [
      "Do something to prepare for the tests\n",
      "importing question: 1\n",
      "importing question: 2\n",
      "importing question: 3\n",
      "importing question: 4\n",
      "importing question: 5\n",
      "importing question: 6\n",
      "importing question: 7\n",
      "importing question: 8\n",
      "importing question: 9\n",
      "importing question: 10\n",
      "Stop Docker compose\n"
     ]
    },
    {
     "name": "stderr",
     "output_type": "stream",
     "text": [
      "time=\"2023-04-04T16:33:51+10:00\" level=warning msg=\"The \\\"OPENAI_APIKEY\\\" variable is not set. Defaulting to a blank string.\"\n",
      "Container test-weaviate-1  Stopping\n",
      "Container test-weaviate-1  Stopping\n",
      "Container test-weaviate-1  Stopped\n",
      "Container test-weaviate-1  Removing\n",
      "Container test-weaviate-1  Removed\n",
      "Network test_default  Removing\n",
      "Network test_default  Removed\n"
     ]
    },
    {
     "data": {
      "text/plain": [
       "CompletedProcess(args=['test/stop-weaviate.sh'], returncode=0)"
      ]
     },
     "execution_count": 5,
     "metadata": {},
     "output_type": "execute_result"
    }
   ],
   "source": [
    "startpath = Path(\"_includes/code/quickstart.autoschema.endtoend.mdx\")\n",
    "codeblocks = extract_code_blocks(startpath)\n",
    "\n",
    "subprocess.run([\"test/start-weaviate.sh\"])\n",
    "for codeblock in codeblocks:\n",
    "    proc_preparation = codeblock[\"preparation\"].strip()\n",
    "    proc_codeblock = preprocess_codeblock(codeblock[\"code\"])\n",
    "    proc_assertion = codeblock[\"test_assertion\"].strip()\n",
    "    exec(proc_preparation)\n",
    "    exec(proc_codeblock)\n",
    "    exec(proc_assertion)\n",
    "subprocess.run([\"test/stop-weaviate.sh\"])"
   ]
  },
  {
   "cell_type": "code",
   "execution_count": null,
   "id": "05970f49",
   "metadata": {},
   "outputs": [],
   "source": []
  }
 ],
 "metadata": {
  "kernelspec": {
   "display_name": "Python 3 (ipykernel)",
   "language": "python",
   "name": "python3"
  },
  "language_info": {
   "codemirror_mode": {
    "name": "ipython",
    "version": 3
   },
   "file_extension": ".py",
   "mimetype": "text/x-python",
   "name": "python",
   "nbconvert_exporter": "python",
   "pygments_lexer": "ipython3",
   "version": "3.10.8"
  },
  "varInspector": {
   "cols": {
    "lenName": 16,
    "lenType": 16,
    "lenVar": 40
   },
   "kernels_config": {
    "python": {
     "delete_cmd_postfix": "",
     "delete_cmd_prefix": "del ",
     "library": "var_list.py",
     "varRefreshCmd": "print(var_dic_list())"
    },
    "r": {
     "delete_cmd_postfix": ") ",
     "delete_cmd_prefix": "rm(",
     "library": "var_list.r",
     "varRefreshCmd": "cat(var_dic_list()) "
    }
   },
   "types_to_exclude": [
    "module",
    "function",
    "builtin_function_or_method",
    "instance",
    "_Feature"
   ],
   "window_display": false
  }
 },
 "nbformat": 4,
 "nbformat_minor": 5
}
