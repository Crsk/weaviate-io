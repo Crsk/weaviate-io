{
 "cells": [
  {
   "cell_type": "code",
   "execution_count": 27,
   "metadata": {},
   "outputs": [
    {
     "name": "stdout",
     "output_type": "stream",
     "text": [
      "993\n",
      "22272\n",
      "373\n",
      "7540\n",
      "171\n",
      "3280\n"
     ]
    }
   ],
   "source": [
    "from pathlib import Path\n",
    "import utils\n",
    "\n",
    "basedirs = [\n",
    "    \"../developers\",\n",
    "    \"../_includes\"\n",
    "]\n",
    "\n",
    "for lang_codes in [\n",
    "    [\"python\", \"js\", \"ts\", \"go\", \"java\", \"bash\", \"graphql\"],\n",
    "    [\"python\", \"js\", \"ts\"],\n",
    "    [\"python\"],\n",
    "]:\n",
    "    md_blocks = list()\n",
    "    for lang_code in lang_codes:\n",
    "        for basedir in basedirs:\n",
    "            for p in Path(basedir).rglob(\"*.md*\"):\n",
    "                codeblocks = utils.extract_language_code_blocks(p, lang_code)\n",
    "                md_blocks.extend(codeblocks)\n",
    "                # if len(codeblocks) > 0:\n",
    "                #     print(p, len(codeblocks))\n",
    "\n",
    "    print(len(md_blocks))\n",
    "\n",
    "    lines = 0\n",
    "    for b in md_blocks:\n",
    "        lines += (1 + b.count(\"\\n\"))\n",
    "\n",
    "    print(lines)"
   ]
  },
  {
   "cell_type": "code",
   "execution_count": null,
   "metadata": {},
   "outputs": [],
   "source": []
  }
 ],
 "metadata": {
  "kernelspec": {
   "display_name": "base",
   "language": "python",
   "name": "python3"
  },
  "language_info": {
   "codemirror_mode": {
    "name": "ipython",
    "version": 3
   },
   "file_extension": ".py",
   "mimetype": "text/x-python",
   "name": "python",
   "nbconvert_exporter": "python",
   "pygments_lexer": "ipython3",
   "version": "3.10.8"
  },
  "orig_nbformat": 4
 },
 "nbformat": 4,
 "nbformat_minor": 2
}
