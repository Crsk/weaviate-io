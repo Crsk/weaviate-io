{
 "cells": [
  {
   "attachments": {},
   "cell_type": "markdown",
   "metadata": {},
   "source": [
    "Total rows of code to be tested:"
   ]
  },
  {
   "cell_type": "code",
   "execution_count": 2,
   "metadata": {},
   "outputs": [
    {
     "name": "stdout",
     "output_type": "stream",
     "text": [
      "994\n",
      "22279\n",
      "374\n",
      "7547\n",
      "172\n",
      "3287\n"
     ]
    }
   ],
   "source": [
    "from pathlib import Path\n",
    "import utils\n",
    "\n",
    "basedirs = [\n",
    "    \"../developers\",\n",
    "    \"../_includes\"\n",
    "]\n",
    "\n",
    "for lang_codes in [\n",
    "    [\"python\", \"js\", \"ts\", \"go\", \"java\", \"bash\", \"graphql\"],\n",
    "    [\"python\", \"js\", \"ts\"],\n",
    "    [\"python\"],\n",
    "]:\n",
    "    md_blocks = list()\n",
    "    for lang_code in lang_codes:\n",
    "        for basedir in basedirs:\n",
    "            for p in Path(basedir).rglob(\"*.md*\"):\n",
    "                codeblocks = utils.extract_language_code_blocks(p, lang_code)\n",
    "                md_blocks.extend(codeblocks)\n",
    "                # if len(codeblocks) > 0:\n",
    "                #     print(p, len(codeblocks))\n",
    "\n",
    "    print(len(md_blocks))\n",
    "\n",
    "    lines = 0\n",
    "    for b in md_blocks:\n",
    "        lines += (1 + b.count(\"\\n\"))\n",
    "\n",
    "    print(lines)"
   ]
  },
  {
   "attachments": {},
   "cell_type": "markdown",
   "metadata": {},
   "source": [
    "Number of rows being tested:"
   ]
  },
  {
   "cell_type": "code",
   "execution_count": 11,
   "metadata": {},
   "outputs": [
    {
     "name": "stdout",
     "output_type": "stream",
     "text": [
      "_includes/code/wcs.client.instantiation.mdx 6\n",
      "_includes/code/quickstart.autoschema.minimum.schema.mdx 5\n",
      "_includes/schema-delete-class.mdx 9\n",
      "_includes/code/quickstart.autoschema.connect.withkey.mdx 5\n",
      "_includes/code/quickstart.autoschema.import.mdx 10\n",
      "_includes/code/quickstart.autoschema.endtoend.mdx 34\n",
      "_includes/code/quickstart.autoschema.neartext.mdx 20\n",
      "_includes/code/quickstart.schema.create.mdx 36\n",
      "_includes/code/quickstart.import.questions.mdx 30\n",
      "_includes/code/quickstart.import.get.mdx 5\n",
      "_includes/code/quickstart.query.neartext.additional.mdx 21\n",
      "_includes/code/quickstart.query.where.1.mdx 23\n",
      "_includes/code/quickstart.query.where.2.mdx 27\n",
      "_includes/code/quickstart.query.aggregate.1.mdx 17\n",
      "_includes/code/quickstart.query.aggregate.2.mdx 24\n",
      "287\n"
     ]
    }
   ],
   "source": [
    "import re\n",
    "testdir = Path(\".\")\n",
    "testfiles = list()\n",
    "for file_path in Path(testdir).rglob(\"test_*.py\"):\n",
    "    with file_path.open() as file:\n",
    "        content = file.read()  \n",
    "    pattern = r\"utils\\.parse_and_prep_script\\(\\s*\\\"([^\\\"]+)\\\"\\s*\\)\"\n",
    "\n",
    "    matches = re.findall(pattern, content) \n",
    "    testfiles.extend(matches)       \n",
    "\n",
    "test_lines = 0\n",
    "for testfile in testfiles:\n",
    "    fpath = Path(\"..\")/Path(testfile)\n",
    "    # with (Path(\"..\")/Path(testfile)).open() as f:\n",
    "    #     t = f.read()\n",
    "    codeblock = utils.extract_language_code_blocks(fpath)\n",
    "    print(testfile, codeblock[0].count(\"\\n\"))\n",
    "    test_lines += (1 + codeblock[0].count(\"\\n\"))\n",
    "print(test_lines)"
   ]
  },
  {
   "cell_type": "code",
   "execution_count": null,
   "metadata": {},
   "outputs": [],
   "source": []
  }
 ],
 "metadata": {
  "kernelspec": {
   "display_name": "base",
   "language": "python",
   "name": "python3"
  },
  "language_info": {
   "codemirror_mode": {
    "name": "ipython",
    "version": 3
   },
   "file_extension": ".py",
   "mimetype": "text/x-python",
   "name": "python",
   "nbconvert_exporter": "python",
   "pygments_lexer": "ipython3",
   "version": "3.10.8"
  },
  "orig_nbformat": 4
 },
 "nbformat": 4,
 "nbformat_minor": 2
}
